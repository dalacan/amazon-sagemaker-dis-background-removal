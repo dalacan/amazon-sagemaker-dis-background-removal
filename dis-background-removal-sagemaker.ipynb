{
 "cells": [
  {
   "cell_type": "markdown",
   "id": "52fc50f9-877a-43d6-b57d-c59a0aa74884",
   "metadata": {},
   "source": [
    "# DIS background removal tool on Amazon SageMaker\n",
    "\n",
    "In this notebook, we will implement asynchronous inferencing using the [DIS background removal tool](https://github.com/xuebinqin/DIS) in Amazon SageMaker. By using [Amazon SageMaker Asynchronous inference](https://docs.aws.amazon.com/sagemaker/latest/dg/async-inference.html), you can process a large batch of images at scale with large payload sizes (up to 1GB) with near real-time latency. \n",
    "\n",
    "We will walkthrough on how to package a pre-train DIS model, implement the inferencing with a custom inference script and deploy out asynchronous endpoint.\n",
    "\n",
    "**High Level Steps**\n",
    "1. Package inference script, model and pre-train weights\n",
    "2. Create SNS topics (optional) to record succcess/error messages from asynchronous inference\n",
    "3. Create asynchronous configuration and deploy endpoint\n",
    "4. Run Inference\n"
   ]
  },
  {
   "cell_type": "code",
   "execution_count": 267,
   "id": "e8e2385e-de94-4fd2-a30c-52862a0de177",
   "metadata": {
    "tags": []
   },
   "outputs": [
    {
     "name": "stdout",
     "output_type": "stream",
     "text": [
      "Keyring is skipped due to an exception: 'keyring.backends'\n",
      "Requirement already satisfied: gdown in /opt/conda/lib/python3.7/site-packages (4.7.1)\n",
      "Requirement already satisfied: beautifulsoup4 in /opt/conda/lib/python3.7/site-packages (from gdown) (4.8.2)\n",
      "Requirement already satisfied: requests[socks] in /opt/conda/lib/python3.7/site-packages (from gdown) (2.28.1)\n",
      "Requirement already satisfied: tqdm in /opt/conda/lib/python3.7/site-packages (from gdown) (4.42.1)\n",
      "Requirement already satisfied: filelock in /opt/conda/lib/python3.7/site-packages (from gdown) (3.0.12)\n",
      "Requirement already satisfied: six in /opt/conda/lib/python3.7/site-packages (from gdown) (1.14.0)\n",
      "Requirement already satisfied: soupsieve>=1.2 in /opt/conda/lib/python3.7/site-packages (from beautifulsoup4->gdown) (1.9.5)\n",
      "Requirement already satisfied: charset-normalizer<3,>=2 in /opt/conda/lib/python3.7/site-packages (from requests[socks]->gdown) (2.0.4)\n",
      "Requirement already satisfied: certifi>=2017.4.17 in /opt/conda/lib/python3.7/site-packages (from requests[socks]->gdown) (2022.9.24)\n",
      "Requirement already satisfied: urllib3<1.27,>=1.21.1 in /opt/conda/lib/python3.7/site-packages (from requests[socks]->gdown) (1.26.12)\n",
      "Requirement already satisfied: idna<4,>=2.5 in /opt/conda/lib/python3.7/site-packages (from requests[socks]->gdown) (2.8)\n",
      "Requirement already satisfied: PySocks!=1.5.7,>=1.5.6 in /opt/conda/lib/python3.7/site-packages (from requests[socks]->gdown) (1.7.1)\n",
      "\u001b[33mWARNING: Running pip as the 'root' user can result in broken permissions and conflicting behaviour with the system package manager. It is recommended to use a virtual environment instead: https://pip.pypa.io/warnings/venv\u001b[0m\u001b[33m\n",
      "\u001b[0m\n",
      "\u001b[1m[\u001b[0m\u001b[34;49mnotice\u001b[0m\u001b[1;39;49m]\u001b[0m\u001b[39;49m A new release of pip available: \u001b[0m\u001b[31;49m22.3.1\u001b[0m\u001b[39;49m -> \u001b[0m\u001b[32;49m23.1.2\u001b[0m\n",
      "\u001b[1m[\u001b[0m\u001b[34;49mnotice\u001b[0m\u001b[1;39;49m]\u001b[0m\u001b[39;49m To update, run: \u001b[0m\u001b[32;49mpip install --upgrade pip\u001b[0m\n"
     ]
    }
   ],
   "source": [
    "# Install python dependencies\n",
    "!pip install gdown"
   ]
  },
  {
   "cell_type": "code",
   "execution_count": 150,
   "id": "8d3c9c6e-618d-408a-976b-2dcb53f4282c",
   "metadata": {
    "tags": []
   },
   "outputs": [],
   "source": [
    "import os, gdown\n",
    "import boto3\n",
    "import sagemaker\n",
    "from sagemaker.pytorch import PyTorch, PyTorchModel\n",
    "import time\n",
    "from time import gmtime, strftime\n",
    "from datetime import datetime\n",
    "import urllib\n",
    "import numpy as np"
   ]
  },
  {
   "cell_type": "code",
   "execution_count": 68,
   "id": "8d209ae5-bde1-4ee9-b40d-288e44acdd59",
   "metadata": {
    "tags": []
   },
   "outputs": [
    {
     "name": "stdout",
     "output_type": "stream",
     "text": [
      "S3 bucket: sagemaker-us-west-2-686650353599\n",
      "Role: arn:aws:iam::686650353599:role/service-role/AmazonSageMaker-ExecutionRole-20221207T104487\n",
      "Region: us-west-2\n"
     ]
    }
   ],
   "source": [
    "sagemaker_session = sagemaker.Session()\n",
    "bucket = sagemaker_session.default_bucket()  ### Replace with your own bucket if needed\n",
    "role = sagemaker.get_execution_role(sagemaker_session)\n",
    "prefix = \"dis-background-removal\"  ### Replace with the S3 prefix desired\n",
    "region = boto3.Session().region_name\n",
    "boto_session = boto3.session.Session()\n",
    "sm_client = boto_session.client(\"sagemaker\")\n",
    "sm_runtime = boto_session.client(\"sagemaker-runtime\")\n",
    "sns_client = boto3.client('sns')\n",
    "print(f\"S3 bucket: {bucket}\")\n",
    "print(f\"Role: {role}\")\n",
    "print(f\"Region: {region}\")"
   ]
  },
  {
   "cell_type": "markdown",
   "id": "e7183869-27a0-4266-bf2a-f1001ec9bf65",
   "metadata": {
    "tags": []
   },
   "source": [
    "## 1. Prepare package - Pre-train weights, model and code\n",
    "\n",
    "In this section, we will:\n",
    "    \n",
    "1. Download the official pre-train weights\n",
    "2. Download the DIS model from the git repository (https://github.com/xuebinqin/DIS)\n",
    "3. Prepare our inference script\n",
    "4. Package our model, weights and script\n",
    "5. Upload package to S3\n",
    "\n",
    "\n",
    "Anatomy of our package folder\n",
    "- `model.pth` - Our pre-train model weights\n",
    "- `/code/inference_script.py` - Our SageMaker inference script to be used. This overrides the default pytorch inferencing functionality with our own implementation.\n",
    "- `/code/requirements.txt` - Inference script dependencies\n",
    "- `/code/models` Folder containing the DIS model"
   ]
  },
  {
   "cell_type": "code",
   "execution_count": 272,
   "id": "44d45a56-b221-4058-a070-0c2b6b82a3e3",
   "metadata": {
    "tags": []
   },
   "outputs": [
    {
     "data": {
      "text/plain": [
       "'s3://sagemaker-us-west-2-686650353599/dis-background-removal/model.tar.gz'"
      ]
     },
     "execution_count": 272,
     "metadata": {},
     "output_type": "execute_result"
    }
   ],
   "source": [
    "# Define our model directory\n",
    "model_artifact= os.path.join(\"s3://\", bucket, prefix, \"model.tar.gz\")\n",
    "model_artifact"
   ]
  },
  {
   "cell_type": "markdown",
   "id": "284b3f42-90be-450a-9a4f-0b7ffde7f722",
   "metadata": {
    "tags": []
   },
   "source": [
    "### 1.1 Download official pre-train weight"
   ]
  },
  {
   "cell_type": "code",
   "execution_count": 10,
   "id": "4efe465e-8a95-4976-b133-7e7e3424adce",
   "metadata": {
    "tags": []
   },
   "outputs": [
    {
     "name": "stderr",
     "output_type": "stream",
     "text": [
      "Downloading...\n",
      "From (uriginal): https://drive.google.com/uc?id=1KyMpRjewZdyYfxHPYcd-ZbanIXtin0Sn\n",
      "From (redirected): https://drive.google.com/uc?id=1KyMpRjewZdyYfxHPYcd-ZbanIXtin0Sn&confirm=t&uuid=af0bf7bc-c527-42d9-a542-e9d5dea27240\n",
      "To: /root/dis-background-removal-sagemaker/saved_models/model.pth\n",
      "100%|██████████| 177M/177M [00:03<00:00, 52.2MB/s] \n"
     ]
    }
   ],
   "source": [
    "# Download official weights\n",
    "if not os.path.exists(\"saved_models\"):\n",
    "    os.mkdir(\"saved_models\")\n",
    "    MODEL_PATH_URL = \"https://drive.google.com/uc?id=1KyMpRjewZdyYfxHPYcd-ZbanIXtin0Sn\"\n",
    "    gdown.download(MODEL_PATH_URL, \"saved_models/model.pth\", use_cookies=False)"
   ]
  },
  {
   "cell_type": "markdown",
   "id": "b2dd251a-78df-4703-b21f-40ed956bfa3d",
   "metadata": {},
   "source": [
    "### 1.2 Download DIS model"
   ]
  },
  {
   "cell_type": "code",
   "execution_count": 119,
   "id": "3f9ebcc5-dce8-4478-8f09-bcc024c21cb6",
   "metadata": {
    "tags": []
   },
   "outputs": [
    {
     "name": "stdout",
     "output_type": "stream",
     "text": [
      "mkdir: cannot create directory ‘model_and_code’: File exists\n"
     ]
    }
   ],
   "source": [
    "!mkdir model_and_code\n",
    "!cp ./saved_models/model.pth ./model_and_code\n",
    "!mkdir model_and_code/code"
   ]
  },
  {
   "cell_type": "code",
   "execution_count": 115,
   "id": "25b43410-aaab-4ad6-9e2a-3d6f04ed10ed",
   "metadata": {
    "tags": []
   },
   "outputs": [
    {
     "name": "stdout",
     "output_type": "stream",
     "text": [
      "Cloning into 'DIS'...\n",
      "remote: Enumerating objects: 328, done.\u001b[K\n",
      "remote: Counting objects: 100% (75/75), done.\u001b[K\n",
      "remote: Compressing objects: 100% (20/20), done.\u001b[K\n",
      "remote: Total 328 (delta 64), reused 56 (delta 55), pack-reused 253\u001b[K\n",
      "Receiving objects: 100% (328/328), 49.59 MiB | 19.09 MiB/s, done.\n",
      "Resolving deltas: 100% (153/153), done.\n",
      "Checking out files: 100% (44/44), done.\n"
     ]
    }
   ],
   "source": [
    "!git clone https://github.com/xuebinqin/DIS"
   ]
  },
  {
   "cell_type": "markdown",
   "id": "1323fb52-4b4a-4091-ac75-64f910fc1a63",
   "metadata": {},
   "source": [
    "#### Copy the model to the package folder"
   ]
  },
  {
   "cell_type": "code",
   "execution_count": null,
   "id": "a46caf5e-896d-47a1-bfb8-93e81a321ad7",
   "metadata": {
    "tags": []
   },
   "outputs": [
    {
     "name": "stdout",
     "output_type": "stream",
     "text": [
      "mv: cannot stat 'DIS/IS-Net/*': No such file or directory\n",
      "rm: cannot remove './model_and_code/code/Inference.py': No such file or directory\n"
     ]
    }
   ],
   "source": [
    "!mv DIS/IS-Net/* ./model_and_code/code\n",
    "!rm ./model_and_code/code/Inference.py\n",
    "!rm ./model_and_code/code/requirements.txt"
   ]
  },
  {
   "cell_type": "markdown",
   "id": "758dd803-8576-43c9-af47-98b3c75b18e6",
   "metadata": {},
   "source": [
    "### 1.3 Prepare infererncing script\n",
    "\n",
    "As we will be using a custom pytoch model and mechanism for loading our data, we will need to implement custom functions for processing loading the model, processing the input, prediction and output. In this section, we will prepare and package our inferencing script (`./scripts/inference.py`). Let's have a look at the inference script below.\n",
    "\n",
    "How to implement a custom inference script: https://sagemaker.readthedocs.io/en/stable/frameworks/pytorch/using_pytorch.html#serve-a-pytorch-model"
   ]
  },
  {
   "cell_type": "code",
   "execution_count": 273,
   "id": "f46f703a-f974-44e7-8d9b-f1b9f7ff3c15",
   "metadata": {
    "tags": []
   },
   "outputs": [
    {
     "name": "stdout",
     "output_type": "stream",
     "text": [
      "\u001b[34mimport\u001b[39;49;00m \u001b[04m\u001b[36mtorch\u001b[39;49;00m\n",
      "\u001b[34mimport\u001b[39;49;00m \u001b[04m\u001b[36mos\u001b[39;49;00m\n",
      "\u001b[34mfrom\u001b[39;49;00m \u001b[04m\u001b[36mtorch\u001b[39;49;00m\u001b[04m\u001b[36m.\u001b[39;49;00m\u001b[04m\u001b[36mautograd\u001b[39;49;00m \u001b[34mimport\u001b[39;49;00m Variable\n",
      "\u001b[34mfrom\u001b[39;49;00m \u001b[04m\u001b[36mtorchvision\u001b[39;49;00m \u001b[34mimport\u001b[39;49;00m transforms\n",
      "\u001b[34mimport\u001b[39;49;00m \u001b[04m\u001b[36mtorch\u001b[39;49;00m\u001b[04m\u001b[36m.\u001b[39;49;00m\u001b[04m\u001b[36mnn\u001b[39;49;00m\u001b[04m\u001b[36m.\u001b[39;49;00m\u001b[04m\u001b[36mfunctional\u001b[39;49;00m \u001b[34mas\u001b[39;49;00m \u001b[04m\u001b[36mF\u001b[39;49;00m\n",
      "\u001b[34mimport\u001b[39;49;00m \u001b[04m\u001b[36mnumpy\u001b[39;49;00m \u001b[34mas\u001b[39;49;00m \u001b[04m\u001b[36mnp\u001b[39;49;00m\n",
      "\u001b[34mfrom\u001b[39;49;00m \u001b[04m\u001b[36msagemaker_inference\u001b[39;49;00m \u001b[34mimport\u001b[39;49;00m encoder\n",
      "\u001b[34mfrom\u001b[39;49;00m \u001b[04m\u001b[36mdata_loader_cache\u001b[39;49;00m \u001b[34mimport\u001b[39;49;00m normalize, im_preprocess\n",
      "\u001b[34mfrom\u001b[39;49;00m \u001b[04m\u001b[36mmodels\u001b[39;49;00m \u001b[34mimport\u001b[39;49;00m *\n",
      "\n",
      "device = \u001b[33m'\u001b[39;49;00m\u001b[33mcuda\u001b[39;49;00m\u001b[33m'\u001b[39;49;00m \u001b[34mif\u001b[39;49;00m torch.cuda.is_available() \u001b[34melse\u001b[39;49;00m \u001b[33m'\u001b[39;49;00m\u001b[33mcpu\u001b[39;49;00m\u001b[33m'\u001b[39;49;00m\n",
      "\n",
      "\u001b[34mfrom\u001b[39;49;00m \u001b[04m\u001b[36msys\u001b[39;49;00m \u001b[34mimport\u001b[39;49;00m getsizeof\n",
      "\n",
      "\u001b[34mclass\u001b[39;49;00m \u001b[04m\u001b[32mGOSNormalize\u001b[39;49;00m(\u001b[36mobject\u001b[39;49;00m):\n",
      "    \u001b[33m'''\u001b[39;49;00m\n",
      "\u001b[33m    Normalize the Image using torch.transforms\u001b[39;49;00m\n",
      "\u001b[33m    '''\u001b[39;49;00m\n",
      "\n",
      "    \u001b[34mdef\u001b[39;49;00m \u001b[32m__init__\u001b[39;49;00m(\u001b[36mself\u001b[39;49;00m, mean=[\u001b[34m0.485\u001b[39;49;00m, \u001b[34m0.456\u001b[39;49;00m, \u001b[34m0.406\u001b[39;49;00m], std=[\u001b[34m0.229\u001b[39;49;00m, \u001b[34m0.224\u001b[39;49;00m, \u001b[34m0.225\u001b[39;49;00m]):\n",
      "        \u001b[36mself\u001b[39;49;00m.mean = mean\n",
      "        \u001b[36mself\u001b[39;49;00m.std = std\n",
      "\n",
      "    \u001b[34mdef\u001b[39;49;00m \u001b[32m__call__\u001b[39;49;00m(\u001b[36mself\u001b[39;49;00m, image):\n",
      "        image = normalize(image, \u001b[36mself\u001b[39;49;00m.mean, \u001b[36mself\u001b[39;49;00m.std)\n",
      "        \u001b[34mreturn\u001b[39;49;00m image\n",
      "\n",
      "\n",
      "transform = transforms.Compose([GOSNormalize([\u001b[34m0.5\u001b[39;49;00m, \u001b[34m0.5\u001b[39;49;00m, \u001b[34m0.5\u001b[39;49;00m],[\u001b[34m1.0\u001b[39;49;00m, \u001b[34m1.0\u001b[39;49;00m, \u001b[34m1.0\u001b[39;49;00m])])\n",
      "\n",
      "\n",
      "\u001b[34mdef\u001b[39;49;00m \u001b[32minput_fn\u001b[39;49;00m(request_body, request_content_type):\n",
      "    \u001b[34mimport\u001b[39;49;00m \u001b[04m\u001b[36mio\u001b[39;49;00m\n",
      "    \u001b[34mfrom\u001b[39;49;00m \u001b[04m\u001b[36mPIL\u001b[39;49;00m \u001b[34mimport\u001b[39;49;00m Image\n",
      "    \n",
      "    \u001b[37m# Read image as stream\u001b[39;49;00m\n",
      "    f = io.BytesIO(request_body)   \n",
      "    input_image = Image.open(f).convert(\u001b[33m\"\u001b[39;49;00m\u001b[33mRGB\u001b[39;49;00m\u001b[33m\"\u001b[39;49;00m)\n",
      "    \n",
      "    \u001b[37m# Read in and process image\u001b[39;49;00m\n",
      "    input_image = np.array(input_image)\n",
      "    im, im_shp = im_preprocess(input_image, [\u001b[34m1024\u001b[39;49;00m, \u001b[34m1024\u001b[39;49;00m])\n",
      "    im = torch.divide(im,\u001b[34m255.0\u001b[39;49;00m)\n",
      "    shape = torch.from_numpy(np.array(im_shp))\n",
      "    \n",
      "    output = {}\n",
      "    output[\u001b[33m'\u001b[39;49;00m\u001b[33mimage_tensor\u001b[39;49;00m\u001b[33m'\u001b[39;49;00m] = transform(im).unsqueeze(\u001b[34m0\u001b[39;49;00m)\n",
      "    output[\u001b[33m'\u001b[39;49;00m\u001b[33morig_size\u001b[39;49;00m\u001b[33m'\u001b[39;49;00m] = shape.unsqueeze(\u001b[34m0\u001b[39;49;00m)\n",
      "    \u001b[34mreturn\u001b[39;49;00m output\n",
      "\n",
      "\n",
      "\u001b[34mdef\u001b[39;49;00m \u001b[32moutput_fn\u001b[39;49;00m(prediction, content_type):    \n",
      "    \u001b[34mreturn\u001b[39;49;00m encoder.encode(prediction, content_type)\n",
      "\n",
      "\u001b[34mdef\u001b[39;49;00m \u001b[32mmodel_fn\u001b[39;49;00m(model_dir):\n",
      "    net = ISNetDIS()\n",
      "    net.to(device)\n",
      "\n",
      "    net.load_state_dict(torch.load(os.path.join(model_dir, \u001b[33m'\u001b[39;49;00m\u001b[33mmodel.pth\u001b[39;49;00m\u001b[33m'\u001b[39;49;00m), map_location=device))\n",
      "    \u001b[34mreturn\u001b[39;49;00m net.to(device)\n",
      "\n",
      "\u001b[34mdef\u001b[39;49;00m \u001b[32mpredict_fn\u001b[39;49;00m(data, model):\n",
      "    model.eval()\n",
      "    \n",
      "    inputs_val = data[\u001b[33m'\u001b[39;49;00m\u001b[33mimage_tensor\u001b[39;49;00m\u001b[33m'\u001b[39;49;00m].type(torch.FloatTensor)\n",
      "    \n",
      "    inputs_val_v = Variable(data[\u001b[33m'\u001b[39;49;00m\u001b[33mimage_tensor\u001b[39;49;00m\u001b[33m'\u001b[39;49;00m], requires_grad=\u001b[34mFalse\u001b[39;49;00m).to(device) \u001b[37m# wrap inputs in Variable\u001b[39;49;00m\n",
      "   \n",
      "    ds_val = model(inputs_val_v)[\u001b[34m0\u001b[39;49;00m] \u001b[37m# list of 6 results\u001b[39;49;00m\n",
      "    \n",
      "    pred_val = ds_val[\u001b[34m0\u001b[39;49;00m][\u001b[34m0\u001b[39;49;00m,:,:,:] \u001b[37m# B x 1 x H x W    # we want the first one which is the most accurate prediction\u001b[39;49;00m\n",
      "\n",
      "    \u001b[37m## recover the prediction spatial size to the orignal image size\u001b[39;49;00m\n",
      "    pred_val = torch.squeeze(F.upsample(torch.unsqueeze(pred_val,\u001b[34m0\u001b[39;49;00m),(data[\u001b[33m'\u001b[39;49;00m\u001b[33morig_size\u001b[39;49;00m\u001b[33m'\u001b[39;49;00m][\u001b[34m0\u001b[39;49;00m][\u001b[34m0\u001b[39;49;00m],data[\u001b[33m'\u001b[39;49;00m\u001b[33morig_size\u001b[39;49;00m\u001b[33m'\u001b[39;49;00m][\u001b[34m0\u001b[39;49;00m][\u001b[34m1\u001b[39;49;00m]),mode=\u001b[33m'\u001b[39;49;00m\u001b[33mbilinear\u001b[39;49;00m\u001b[33m'\u001b[39;49;00m))\n",
      "\n",
      "    ma = torch.max(pred_val)\n",
      "    mi = torch.min(pred_val)\n",
      "    pred_val = (pred_val-mi)/(ma-mi) \u001b[37m# max = 1\u001b[39;49;00m\n",
      "\n",
      "    \u001b[34mif\u001b[39;49;00m device == \u001b[33m'\u001b[39;49;00m\u001b[33mcuda\u001b[39;49;00m\u001b[33m'\u001b[39;49;00m: torch.cuda.empty_cache()\n",
      "    \u001b[34mreturn\u001b[39;49;00m (pred_val.detach().cpu().numpy()*\u001b[34m255\u001b[39;49;00m).astype(np.uint8) \u001b[37m# it is the mask we need\u001b[39;49;00m\n"
     ]
    }
   ],
   "source": [
    "!pygmentize ./scripts/inference.py"
   ]
  },
  {
   "cell_type": "markdown",
   "id": "08c9bc40-ad08-411c-b094-a8f2e5f6fa3b",
   "metadata": {},
   "source": [
    "#### Copy inference script to packaging folder"
   ]
  },
  {
   "cell_type": "code",
   "execution_count": null,
   "id": "6afa911b-294c-4d3d-a4ad-0acbf5414a5f",
   "metadata": {},
   "outputs": [],
   "source": [
    "!cp -r ./scripts/* model_and_code/code"
   ]
  },
  {
   "cell_type": "markdown",
   "id": "6d04b5f5-9824-43dd-a401-7694611c1656",
   "metadata": {},
   "source": [
    "### 1.4 Package code and model into model.tar.gz"
   ]
  },
  {
   "cell_type": "code",
   "execution_count": 249,
   "id": "113b6c3f-1fb1-495d-afd5-56c3b62efd7e",
   "metadata": {
    "tags": []
   },
   "outputs": [
    {
     "name": "stdout",
     "output_type": "stream",
     "text": [
      "./\n",
      "./model.pth\n",
      "./code/\n",
      "./code/models/\n",
      "./code/models/isnet.py\n",
      "./code/models/__pycache__/\n",
      "./code/models/__pycache__/u2netfast.cpython-37.pyc\n",
      "./code/models/__pycache__/__init__.cpython-37.pyc\n",
      "./code/models/__init__.py\n",
      "./code/basics.py\n",
      "./code/pytorch18.yml\n",
      "./code/requirements.txt\n",
      "./code/data_loader_cache.py\n",
      "./code/.ipynb_checkpoints/\n",
      "./code/.ipynb_checkpoints/requirements-checkpoint.txt\n",
      "./code/inference.py\n",
      "./code/train_valid_inference_main.py\n",
      "./code/hce_metric_main.py\n",
      "./code/__pycache__/\n",
      "./code/__pycache__/basics.cpython-37.pyc\n",
      "./code/__pycache__/data_loader_cache.cpython-37.pyc\n"
     ]
    }
   ],
   "source": [
    "!tar cvzf model.tar.gz -C model_and_code/ . "
   ]
  },
  {
   "cell_type": "markdown",
   "id": "dce121da-a11e-42bf-b683-2e8ba27f758a",
   "metadata": {},
   "source": [
    "### 1.5 Upload model and code to S3"
   ]
  },
  {
   "cell_type": "code",
   "execution_count": 250,
   "id": "66420234-c758-436c-8d01-e8c7dc5e1607",
   "metadata": {
    "tags": []
   },
   "outputs": [
    {
     "name": "stdout",
     "output_type": "stream",
     "text": [
      "upload: ./model.tar.gz to s3://sagemaker-us-west-2-686650353599/dis-background-removal/model.tar.gz\n"
     ]
    }
   ],
   "source": [
    "!aws s3 cp model.tar.gz $model_artifact"
   ]
  },
  {
   "cell_type": "markdown",
   "id": "88308632-fd05-48a8-bdf0-1f3726195137",
   "metadata": {},
   "source": [
    "## 2. Create async endpoint\n",
    "\n",
    "In this section we will walkthrough how to create an Amazon SageMaker Asynchronous endpoint. As part of the configuration, we will also create a SNS topic to capture the success and error events when invoking the asynchronous endpoint.\n",
    "\n",
    "Reference: https://github.com/aws-samples/amazon-sagemaker-asynchronous-inference-computer-vision/blob/main/mask-rcnn-async-inference.ipynb"
   ]
  },
  {
   "cell_type": "markdown",
   "id": "0cb4af88-4d0e-4b9a-881d-cdfba72c8316",
   "metadata": {},
   "source": [
    "### Create SNS Error and Success topics\n",
    "\n",
    "**Prerequisite**\n",
    "Make sure IAM role has permission to create sns topics. For more information on required permissions, refer to the following documentation: https://docs.aws.amazon.com/sagemaker/latest/dg/async-inference-create-endpoint-prerequisites.html"
   ]
  },
  {
   "cell_type": "code",
   "execution_count": 73,
   "id": "e32f6283-4119-4acd-84a1-dae02ef11821",
   "metadata": {
    "tags": []
   },
   "outputs": [
    {
     "name": "stdout",
     "output_type": "stream",
     "text": [
      "arn:aws:sns:us-west-2:686650353599:dis-background-removal-Async-ErrorTopic\n"
     ]
    }
   ],
   "source": [
    "response = sns_client.create_topic(Name=f\"{prefix}-Async-ErrorTopic\")\n",
    "error_topic= response['TopicArn']\n",
    "print(error_topic)"
   ]
  },
  {
   "cell_type": "code",
   "execution_count": 74,
   "id": "75ecb7ba-bad1-4922-9b1a-383b18e00828",
   "metadata": {
    "tags": []
   },
   "outputs": [
    {
     "name": "stdout",
     "output_type": "stream",
     "text": [
      "arn:aws:sns:us-west-2:686650353599:dis-background-removal-Async-SuccessTopic\n"
     ]
    }
   ],
   "source": [
    "response = sns_client.create_topic(Name=f\"{prefix}-Async-SuccessTopic\")\n",
    "success_topic = response['TopicArn']\n",
    "print(success_topic)"
   ]
  },
  {
   "cell_type": "code",
   "execution_count": 77,
   "id": "71bebc82-82ab-4855-add6-cbe7b995714e",
   "metadata": {
    "tags": []
   },
   "outputs": [
    {
     "name": "stdout",
     "output_type": "stream",
     "text": [
      "[{'TopicArn': 'arn:aws:sns:us-west-2:686650353599:DUSStack-dusstackjobcompletiontopic3jncj5mznfvxeahw8vnzazA02368F4-ESfqwypWqKrP'}, {'TopicArn': 'arn:aws:sns:us-west-2:686650353599:aws-controltower-SecurityNotifications'}, {'TopicArn': 'arn:aws:sns:us-west-2:686650353599:dis-background-removal-Async-ErrorTopic'}, {'TopicArn': 'arn:aws:sns:us-west-2:686650353599:dis-background-removal-Async-SuccessTopic'}]\n"
     ]
    }
   ],
   "source": [
    "response = sns_client.list_topics()\n",
    "topics = response[\"Topics\"]\n",
    "print(topics)"
   ]
  },
  {
   "cell_type": "markdown",
   "id": "36bd5b22-4202-40dc-936c-d030619da28c",
   "metadata": {},
   "source": [
    "### Create SageMaker Model with PyTorch inference conatiner"
   ]
  },
  {
   "cell_type": "code",
   "execution_count": 251,
   "id": "811fa971-66fa-4bdd-8627-e456725b104b",
   "metadata": {
    "tags": []
   },
   "outputs": [
    {
     "name": "stdout",
     "output_type": "stream",
     "text": [
      "763104351884.dkr.ecr.us-west-2.amazonaws.com/pytorch-inference:1.12-cpu-py38\n"
     ]
    }
   ],
   "source": [
    "# Retrieve inference container\n",
    "from sagemaker.image_uris import retrieve\n",
    "\n",
    "deploy_instance_type = 'ml.m5.4xlarge'\n",
    "pytorch_inference_image_uri = retrieve('pytorch',\n",
    "                                       region,\n",
    "                                       version='1.12',\n",
    "                                       py_version='py38',\n",
    "                                       instance_type = deploy_instance_type,\n",
    "                                       accelerator_type=None,\n",
    "                                       image_scope='inference')\n",
    "print(pytorch_inference_image_uri)"
   ]
  },
  {
   "cell_type": "code",
   "execution_count": 252,
   "id": "6f5496c3-9fa4-4725-8ea7-66c950cf4c39",
   "metadata": {
    "tags": []
   },
   "outputs": [
    {
     "name": "stdout",
     "output_type": "stream",
     "text": [
      "763104351884.dkr.ecr.us-west-2.amazonaws.com/pytorch-inference:1.12-cpu-py38\n",
      "sagemaker-maskrcnn-1685939981\n"
     ]
    }
   ],
   "source": [
    "container = pytorch_inference_image_uri\n",
    "model_name = 'sagemaker-maskrcnn-{0}'.format(str(int(time.time())))\n",
    "print(container)\n",
    "print(model_name)\n",
    "\n",
    "create_model_response = sm_client.create_model(\n",
    "    ModelName = model_name,\n",
    "    ExecutionRoleArn = role,\n",
    "    PrimaryContainer = {\n",
    "        'Image': container,\n",
    "        'ModelDataUrl': model_artifact,\n",
    "        'Environment': {\n",
    "            'TS_MAX_REQUEST_SIZE': '100000000', #default max request size is 6 Mb for torchserve, need to update it to support the 70 mb input payload\n",
    "            'TS_MAX_RESPONSE_SIZE': '100000000',\n",
    "            'TS_DEFAULT_RESPONSE_TIMEOUT': '1000'\n",
    "        }\n",
    "    },    \n",
    ")"
   ]
  },
  {
   "cell_type": "markdown",
   "id": "158a9b3b-e1b8-40dd-a7a0-ede6c2c17f35",
   "metadata": {
    "tags": []
   },
   "source": [
    "### Create Asynchronous inference endpoint"
   ]
  },
  {
   "cell_type": "code",
   "execution_count": 253,
   "id": "cad84bbf-b1c3-418e-88fb-093b8fe6fe40",
   "metadata": {
    "tags": []
   },
   "outputs": [
    {
     "name": "stdout",
     "output_type": "stream",
     "text": [
      "Created EndpointConfig: arn:aws:sagemaker:us-west-2:686650353599:endpoint-config/dissegmentation-endpointconfig-2023-06-05-04-39-42\n"
     ]
    }
   ],
   "source": [
    "resource_name = \"DISSegmentation-{}-{}\"\n",
    "\n",
    "endpoint_config_name = resource_name.format(\n",
    "    \"EndpointConfig\", datetime.now().strftime(\"%Y-%m-%d-%H-%M-%S\")\n",
    ")\n",
    "create_endpoint_config_response = sm_client.create_endpoint_config(\n",
    "    EndpointConfigName=endpoint_config_name,\n",
    "    ProductionVariants=[\n",
    "        {\n",
    "            \"VariantName\": \"variant1\",\n",
    "            \"ModelName\": model_name,\n",
    "            \"InstanceType\": \"ml.m5.4xlarge\",\n",
    "            \"InitialInstanceCount\": 1,\n",
    "        }\n",
    "    ],\n",
    "    AsyncInferenceConfig={\n",
    "        \"OutputConfig\": {\n",
    "            \"S3OutputPath\": f\"s3://{bucket}/{prefix}/output\",\n",
    "            # Optionally specify Amazon SNS topics\n",
    "            \"NotificationConfig\": {\n",
    "              \"SuccessTopic\": success_topic,\n",
    "              \"ErrorTopic\": error_topic,\n",
    "            }\n",
    "        },\n",
    "        \"ClientConfig\": {\"MaxConcurrentInvocationsPerInstance\": 4},\n",
    "    },\n",
    ")\n",
    "print(f\"Created EndpointConfig: {create_endpoint_config_response['EndpointConfigArn']}\")"
   ]
  },
  {
   "cell_type": "code",
   "execution_count": 254,
   "id": "0e3b6697-7497-43e5-af57-e14f6578f8ed",
   "metadata": {
    "tags": []
   },
   "outputs": [
    {
     "name": "stdout",
     "output_type": "stream",
     "text": [
      "Creating Endpoint: arn:aws:sagemaker:us-west-2:686650353599:endpoint/sm-dis-background-removal-2023-06-05-04-39-42\n"
     ]
    }
   ],
   "source": [
    "endpoint_name = f\"sm-{prefix}-{strftime('%Y-%m-%d-%H-%M-%S', gmtime())}\"\n",
    "create_endpoint_response = sm_client.create_endpoint(EndpointName=endpoint_name, EndpointConfigName=endpoint_config_name)\n",
    "print(f\"Creating Endpoint: {create_endpoint_response['EndpointArn']}\")"
   ]
  },
  {
   "cell_type": "code",
   "execution_count": 255,
   "id": "41aad0df-8ae7-4441-9a61-d16b126b20e4",
   "metadata": {
    "tags": []
   },
   "outputs": [
    {
     "name": "stdout",
     "output_type": "stream",
     "text": [
      "Waiting for endpoint to create...\n",
      "Endpoint Status: InService\n"
     ]
    }
   ],
   "source": [
    "waiter = boto3.client('sagemaker').get_waiter('endpoint_in_service')\n",
    "print(\"Waiting for endpoint to create...\")\n",
    "waiter.wait(EndpointName=endpoint_name)\n",
    "resp = sm_client.describe_endpoint(EndpointName=endpoint_name)\n",
    "print(f\"Endpoint Status: {resp['EndpointStatus']}\")"
   ]
  },
  {
   "cell_type": "markdown",
   "id": "a7fd11af-ff74-4d8a-9939-2e907daa8d7e",
   "metadata": {},
   "source": [
    "## 3. Inference\n",
    "\n",
    "Now that our endpoint is in service, let us run some inference and retrieve the results.\n",
    "\n",
    "Note: In our inference script we can configured it to save the raw mask in a json and we will need to convert it into to preview our results as shown below. If you do want to modify how the inference script save your output, you can implement it in the `output_fn()` in the `scripts/inference.py` file."
   ]
  },
  {
   "cell_type": "code",
   "execution_count": 256,
   "id": "cf83650d-8894-479f-a4ec-987bea389db4",
   "metadata": {
    "tags": []
   },
   "outputs": [],
   "source": [
    "def upload_file(input_location, prefix):\n",
    "    prefix = f\"{prefix}/input\"\n",
    "    return sagemaker_session.upload_data(\n",
    "        input_location, \n",
    "        bucket=sagemaker_session.default_bucket(),\n",
    "        key_prefix=prefix, \n",
    "        extra_args={\"ContentType\": \"image/jpg\"})"
   ]
  },
  {
   "cell_type": "code",
   "execution_count": 257,
   "id": "b356ff6e-d058-4389-a7a3-f2e1a65fd3d3",
   "metadata": {
    "tags": []
   },
   "outputs": [],
   "source": [
    "input_1_location = \"data/sample.jpg\"\n",
    "input_1_s3_location = upload_file(input_1_location, prefix)"
   ]
  },
  {
   "cell_type": "code",
   "execution_count": 258,
   "id": "fe55aa5b-4436-4ac8-9f82-8b4b7f4873fc",
   "metadata": {
    "tags": []
   },
   "outputs": [
    {
     "name": "stdout",
     "output_type": "stream",
     "text": [
      "s3://sagemaker-us-west-2-686650353599/dis-background-removal/input/sample.jpg\n"
     ]
    }
   ],
   "source": [
    "print(input_1_s3_location)"
   ]
  },
  {
   "cell_type": "code",
   "execution_count": 259,
   "id": "8a841730-b698-441f-8884-5cf0b75dff06",
   "metadata": {
    "tags": []
   },
   "outputs": [
    {
     "name": "stdout",
     "output_type": "stream",
     "text": [
      "sm-dis-background-removal-2023-06-05-04-39-42\n"
     ]
    }
   ],
   "source": [
    "print(endpoint_name)"
   ]
  },
  {
   "cell_type": "markdown",
   "id": "1b973856-67d9-4460-9bb6-fd6d5855c557",
   "metadata": {},
   "source": [
    "### Invoke asynchronous inference"
   ]
  },
  {
   "cell_type": "code",
   "execution_count": 260,
   "id": "9e8fc662-9a3a-4662-a9d2-15d37685cc2d",
   "metadata": {
    "tags": []
   },
   "outputs": [
    {
     "name": "stdout",
     "output_type": "stream",
     "text": [
      "OutputLocation: s3://sagemaker-us-west-2-686650353599/dis-background-removal/output/234eeae3-0a9b-4941-b637-1ec60850c730.out\n"
     ]
    }
   ],
   "source": [
    "response = sm_runtime.invoke_endpoint_async(\n",
    "    EndpointName=endpoint_name, \n",
    "    InputLocation=input_1_s3_location)\n",
    "output_location = response['OutputLocation']\n",
    "print(f\"OutputLocation: {output_location}\")"
   ]
  },
  {
   "cell_type": "code",
   "execution_count": 261,
   "id": "08da1eaf-e9ad-4f00-96a5-631c75a2c443",
   "metadata": {
    "tags": []
   },
   "outputs": [],
   "source": [
    "from botocore.exceptions import ClientError\n",
    "\n",
    "def get_output(output_location):\n",
    "    output_url = urllib.parse.urlparse(output_location)\n",
    "    bucket = output_url.netloc\n",
    "    key = output_url.path[1:]\n",
    "    while True:\n",
    "        try:\n",
    "            return sagemaker_session.read_s3_file(bucket=output_url.netloc, key_prefix=output_url.path[1:])\n",
    "        except ClientError as e:\n",
    "            if e.response['Error']['Code'] == 'NoSuchKey':\n",
    "                print(\"waiting for output...\")\n",
    "                time.sleep(2)\n",
    "                continue\n",
    "            raise"
   ]
  },
  {
   "cell_type": "code",
   "execution_count": 262,
   "id": "c70f8053-9ad1-40eb-911e-faced3a14b62",
   "metadata": {
    "tags": []
   },
   "outputs": [
    {
     "name": "stdout",
     "output_type": "stream",
     "text": [
      "waiting for output...\n",
      "Output size in bytes: 2053765\n"
     ]
    }
   ],
   "source": [
    "output = get_output(output_location)\n",
    "print(f\"Output size in bytes: {((sys.getsizeof(output)))}\")"
   ]
  },
  {
   "cell_type": "markdown",
   "id": "17d10a68-1b92-407f-b4a7-aacf0415b001",
   "metadata": {},
   "source": [
    "### Download inference results and preview"
   ]
  },
  {
   "cell_type": "code",
   "execution_count": 263,
   "id": "8b9f9ef8-5443-4143-ae3d-9f1161321a46",
   "metadata": {
    "tags": []
   },
   "outputs": [
    {
     "name": "stdout",
     "output_type": "stream",
     "text": [
      "download: s3://sagemaker-us-west-2-686650353599/dis-background-removal/output/234eeae3-0a9b-4941-b637-1ec60850c730.out to output/234eeae3-0a9b-4941-b637-1ec60850c730.out\n"
     ]
    }
   ],
   "source": [
    "## Download\n",
    "!aws s3 cp $output_location ./output"
   ]
  },
  {
   "cell_type": "code",
   "execution_count": 264,
   "id": "43efa9f0-e541-46b6-a830-067a65c3169a",
   "metadata": {
    "tags": []
   },
   "outputs": [
    {
     "name": "stdout",
     "output_type": "stream",
     "text": [
      "234eeae3-0a9b-4941-b637-1ec60850c730.out\n"
     ]
    }
   ],
   "source": [
    "print(os.path.basename(output_location))"
   ]
  },
  {
   "cell_type": "code",
   "execution_count": 265,
   "id": "dbe3b66c-714d-49a1-ab65-5d9124bcc9a0",
   "metadata": {
    "tags": []
   },
   "outputs": [],
   "source": [
    "import json\n",
    "from PIL import Image\n",
    "\n",
    "with open(os.path.join(\"output\", os.path.basename(output_location)), \"rb\") as f:\n",
    "    data = json.load(f)\n",
    "\n",
    "payload = np.asarray(data)\n",
    "pil_mask = Image.fromarray(payload.astype('uint8')).convert('L')"
   ]
  },
  {
   "cell_type": "code",
   "execution_count": 266,
   "id": "f4403228-07a0-49d3-8bb3-fb2a31c2f344",
   "metadata": {
    "tags": []
   },
   "outputs": [
    {
     "data": {
      "image/png": "[encoded data removed]",
      "text/plain": [
       "<PIL.Image.Image image mode=L size=1000x667>"
      ]
     },
     "execution_count": 266,
     "metadata": {},
     "output_type": "execute_result"
    }
   ],
   "source": [
    "pil_mask"
   ]
  },
  {
   "cell_type": "markdown",
   "id": "58ec49d4-61b6-4681-8fea-4f68bb35aecf",
   "metadata": {},
   "source": [
    "## 4. Clean up\n",
    "\n",
    "Delete async endpoint"
   ]
  },
  {
   "cell_type": "code",
   "execution_count": 246,
   "id": "3c1d6313-6e3e-4c93-905e-83fc433b1ead",
   "metadata": {
    "tags": []
   },
   "outputs": [
    {
     "data": {
      "text/plain": [
       "{'ResponseMetadata': {'RequestId': '5cc052b8-a372-42d7-8fc9-8143717c3c0b',\n",
       "  'HTTPStatusCode': 200,\n",
       "  'HTTPHeaders': {'x-amzn-requestid': '5cc052b8-a372-42d7-8fc9-8143717c3c0b',\n",
       "   'content-type': 'application/x-amz-json-1.1',\n",
       "   'content-length': '0',\n",
       "   'date': 'Mon, 05 Jun 2023 04:39:02 GMT'},\n",
       "  'RetryAttempts': 0}}"
      ]
     },
     "execution_count": 246,
     "metadata": {},
     "output_type": "execute_result"
    }
   ],
   "source": [
    "sm_client.delete_endpoint(EndpointName=endpoint_name)"
   ]
  }
 ],
 "metadata": {
  "availableInstances": [
   {
    "_defaultOrder": 0,
    "_isFastLaunch": true,
    "category": "General purpose",
    "gpuNum": 0,
    "hideHardwareSpecs": false,
    "memoryGiB": 4,
    "name": "ml.t3.medium",
    "vcpuNum": 2
   },
   {
    "_defaultOrder": 1,
    "_isFastLaunch": false,
    "category": "General purpose",
    "gpuNum": 0,
    "hideHardwareSpecs": false,
    "memoryGiB": 8,
    "name": "ml.t3.large",
    "vcpuNum": 2
   },
   {
    "_defaultOrder": 2,
    "_isFastLaunch": false,
    "category": "General purpose",
    "gpuNum": 0,
    "hideHardwareSpecs": false,
    "memoryGiB": 16,
    "name": "ml.t3.xlarge",
    "vcpuNum": 4
   },
   {
    "_defaultOrder": 3,
    "_isFastLaunch": false,
    "category": "General purpose",
    "gpuNum": 0,
    "hideHardwareSpecs": false,
    "memoryGiB": 32,
    "name": "ml.t3.2xlarge",
    "vcpuNum": 8
   },
   {
    "_defaultOrder": 4,
    "_isFastLaunch": true,
    "category": "General purpose",
    "gpuNum": 0,
    "hideHardwareSpecs": false,
    "memoryGiB": 8,
    "name": "ml.m5.large",
    "vcpuNum": 2
   },
   {
    "_defaultOrder": 5,
    "_isFastLaunch": false,
    "category": "General purpose",
    "gpuNum": 0,
    "hideHardwareSpecs": false,
    "memoryGiB": 16,
    "name": "ml.m5.xlarge",
    "vcpuNum": 4
   },
   {
    "_defaultOrder": 6,
    "_isFastLaunch": false,
    "category": "General purpose",
    "gpuNum": 0,
    "hideHardwareSpecs": false,
    "memoryGiB": 32,
    "name": "ml.m5.2xlarge",
    "vcpuNum": 8
   },
   {
    "_defaultOrder": 7,
    "_isFastLaunch": false,
    "category": "General purpose",
    "gpuNum": 0,
    "hideHardwareSpecs": false,
    "memoryGiB": 64,
    "name": "ml.m5.4xlarge",
    "vcpuNum": 16
   },
   {
    "_defaultOrder": 8,
    "_isFastLaunch": false,
    "category": "General purpose",
    "gpuNum": 0,
    "hideHardwareSpecs": false,
    "memoryGiB": 128,
    "name": "ml.m5.8xlarge",
    "vcpuNum": 32
   },
   {
    "_defaultOrder": 9,
    "_isFastLaunch": false,
    "category": "General purpose",
    "gpuNum": 0,
    "hideHardwareSpecs": false,
    "memoryGiB": 192,
    "name": "ml.m5.12xlarge",
    "vcpuNum": 48
   },
   {
    "_defaultOrder": 10,
    "_isFastLaunch": false,
    "category": "General purpose",
    "gpuNum": 0,
    "hideHardwareSpecs": false,
    "memoryGiB": 256,
    "name": "ml.m5.16xlarge",
    "vcpuNum": 64
   },
   {
    "_defaultOrder": 11,
    "_isFastLaunch": false,
    "category": "General purpose",
    "gpuNum": 0,
    "hideHardwareSpecs": false,
    "memoryGiB": 384,
    "name": "ml.m5.24xlarge",
    "vcpuNum": 96
   },
   {
    "_defaultOrder": 12,
    "_isFastLaunch": false,
    "category": "General purpose",
    "gpuNum": 0,
    "hideHardwareSpecs": false,
    "memoryGiB": 8,
    "name": "ml.m5d.large",
    "vcpuNum": 2
   },
   {
    "_defaultOrder": 13,
    "_isFastLaunch": false,
    "category": "General purpose",
    "gpuNum": 0,
    "hideHardwareSpecs": false,
    "memoryGiB": 16,
    "name": "ml.m5d.xlarge",
    "vcpuNum": 4
   },
   {
    "_defaultOrder": 14,
    "_isFastLaunch": false,
    "category": "General purpose",
    "gpuNum": 0,
    "hideHardwareSpecs": false,
    "memoryGiB": 32,
    "name": "ml.m5d.2xlarge",
    "vcpuNum": 8
   },
   {
    "_defaultOrder": 15,
    "_isFastLaunch": false,
    "category": "General purpose",
    "gpuNum": 0,
    "hideHardwareSpecs": false,
    "memoryGiB": 64,
    "name": "ml.m5d.4xlarge",
    "vcpuNum": 16
   },
   {
    "_defaultOrder": 16,
    "_isFastLaunch": false,
    "category": "General purpose",
    "gpuNum": 0,
    "hideHardwareSpecs": false,
    "memoryGiB": 128,
    "name": "ml.m5d.8xlarge",
    "vcpuNum": 32
   },
   {
    "_defaultOrder": 17,
    "_isFastLaunch": false,
    "category": "General purpose",
    "gpuNum": 0,
    "hideHardwareSpecs": false,
    "memoryGiB": 192,
    "name": "ml.m5d.12xlarge",
    "vcpuNum": 48
   },
   {
    "_defaultOrder": 18,
    "_isFastLaunch": false,
    "category": "General purpose",
    "gpuNum": 0,
    "hideHardwareSpecs": false,
    "memoryGiB": 256,
    "name": "ml.m5d.16xlarge",
    "vcpuNum": 64
   },
   {
    "_defaultOrder": 19,
    "_isFastLaunch": false,
    "category": "General purpose",
    "gpuNum": 0,
    "hideHardwareSpecs": false,
    "memoryGiB": 384,
    "name": "ml.m5d.24xlarge",
    "vcpuNum": 96
   },
   {
    "_defaultOrder": 20,
    "_isFastLaunch": false,
    "category": "General purpose",
    "gpuNum": 0,
    "hideHardwareSpecs": true,
    "memoryGiB": 0,
    "name": "ml.geospatial.interactive",
    "supportedImageNames": [
     "sagemaker-geospatial-v1-0"
    ],
    "vcpuNum": 0
   },
   {
    "_defaultOrder": 21,
    "_isFastLaunch": true,
    "category": "Compute optimized",
    "gpuNum": 0,
    "hideHardwareSpecs": false,
    "memoryGiB": 4,
    "name": "ml.c5.large",
    "vcpuNum": 2
   },
   {
    "_defaultOrder": 22,
    "_isFastLaunch": false,
    "category": "Compute optimized",
    "gpuNum": 0,
    "hideHardwareSpecs": false,
    "memoryGiB": 8,
    "name": "ml.c5.xlarge",
    "vcpuNum": 4
   },
   {
    "_defaultOrder": 23,
    "_isFastLaunch": false,
    "category": "Compute optimized",
    "gpuNum": 0,
    "hideHardwareSpecs": false,
    "memoryGiB": 16,
    "name": "ml.c5.2xlarge",
    "vcpuNum": 8
   },
   {
    "_defaultOrder": 24,
    "_isFastLaunch": false,
    "category": "Compute optimized",
    "gpuNum": 0,
    "hideHardwareSpecs": false,
    "memoryGiB": 32,
    "name": "ml.c5.4xlarge",
    "vcpuNum": 16
   },
   {
    "_defaultOrder": 25,
    "_isFastLaunch": false,
    "category": "Compute optimized",
    "gpuNum": 0,
    "hideHardwareSpecs": false,
    "memoryGiB": 72,
    "name": "ml.c5.9xlarge",
    "vcpuNum": 36
   },
   {
    "_defaultOrder": 26,
    "_isFastLaunch": false,
    "category": "Compute optimized",
    "gpuNum": 0,
    "hideHardwareSpecs": false,
    "memoryGiB": 96,
    "name": "ml.c5.12xlarge",
    "vcpuNum": 48
   },
   {
    "_defaultOrder": 27,
    "_isFastLaunch": false,
    "category": "Compute optimized",
    "gpuNum": 0,
    "hideHardwareSpecs": false,
    "memoryGiB": 144,
    "name": "ml.c5.18xlarge",
    "vcpuNum": 72
   },
   {
    "_defaultOrder": 28,
    "_isFastLaunch": false,
    "category": "Compute optimized",
    "gpuNum": 0,
    "hideHardwareSpecs": false,
    "memoryGiB": 192,
    "name": "ml.c5.24xlarge",
    "vcpuNum": 96
   },
   {
    "_defaultOrder": 29,
    "_isFastLaunch": true,
    "category": "Accelerated computing",
    "gpuNum": 1,
    "hideHardwareSpecs": false,
    "memoryGiB": 16,
    "name": "ml.g4dn.xlarge",
    "vcpuNum": 4
   },
   {
    "_defaultOrder": 30,
    "_isFastLaunch": false,
    "category": "Accelerated computing",
    "gpuNum": 1,
    "hideHardwareSpecs": false,
    "memoryGiB": 32,
    "name": "ml.g4dn.2xlarge",
    "vcpuNum": 8
   },
   {
    "_defaultOrder": 31,
    "_isFastLaunch": false,
    "category": "Accelerated computing",
    "gpuNum": 1,
    "hideHardwareSpecs": false,
    "memoryGiB": 64,
    "name": "ml.g4dn.4xlarge",
    "vcpuNum": 16
   },
   {
    "_defaultOrder": 32,
    "_isFastLaunch": false,
    "category": "Accelerated computing",
    "gpuNum": 1,
    "hideHardwareSpecs": false,
    "memoryGiB": 128,
    "name": "ml.g4dn.8xlarge",
    "vcpuNum": 32
   },
   {
    "_defaultOrder": 33,
    "_isFastLaunch": false,
    "category": "Accelerated computing",
    "gpuNum": 4,
    "hideHardwareSpecs": false,
    "memoryGiB": 192,
    "name": "ml.g4dn.12xlarge",
    "vcpuNum": 48
   },
   {
    "_defaultOrder": 34,
    "_isFastLaunch": false,
    "category": "Accelerated computing",
    "gpuNum": 1,
    "hideHardwareSpecs": false,
    "memoryGiB": 256,
    "name": "ml.g4dn.16xlarge",
    "vcpuNum": 64
   },
   {
    "_defaultOrder": 35,
    "_isFastLaunch": false,
    "category": "Accelerated computing",
    "gpuNum": 1,
    "hideHardwareSpecs": false,
    "memoryGiB": 61,
    "name": "ml.p3.2xlarge",
    "vcpuNum": 8
   },
   {
    "_defaultOrder": 36,
    "_isFastLaunch": false,
    "category": "Accelerated computing",
    "gpuNum": 4,
    "hideHardwareSpecs": false,
    "memoryGiB": 244,
    "name": "ml.p3.8xlarge",
    "vcpuNum": 32
   },
   {
    "_defaultOrder": 37,
    "_isFastLaunch": false,
    "category": "Accelerated computing",
    "gpuNum": 8,
    "hideHardwareSpecs": false,
    "memoryGiB": 488,
    "name": "ml.p3.16xlarge",
    "vcpuNum": 64
   },
   {
    "_defaultOrder": 38,
    "_isFastLaunch": false,
    "category": "Accelerated computing",
    "gpuNum": 8,
    "hideHardwareSpecs": false,
    "memoryGiB": 768,
    "name": "ml.p3dn.24xlarge",
    "vcpuNum": 96
   },
   {
    "_defaultOrder": 39,
    "_isFastLaunch": false,
    "category": "Memory Optimized",
    "gpuNum": 0,
    "hideHardwareSpecs": false,
    "memoryGiB": 16,
    "name": "ml.r5.large",
    "vcpuNum": 2
   },
   {
    "_defaultOrder": 40,
    "_isFastLaunch": false,
    "category": "Memory Optimized",
    "gpuNum": 0,
    "hideHardwareSpecs": false,
    "memoryGiB": 32,
    "name": "ml.r5.xlarge",
    "vcpuNum": 4
   },
   {
    "_defaultOrder": 41,
    "_isFastLaunch": false,
    "category": "Memory Optimized",
    "gpuNum": 0,
    "hideHardwareSpecs": false,
    "memoryGiB": 64,
    "name": "ml.r5.2xlarge",
    "vcpuNum": 8
   },
   {
    "_defaultOrder": 42,
    "_isFastLaunch": false,
    "category": "Memory Optimized",
    "gpuNum": 0,
    "hideHardwareSpecs": false,
    "memoryGiB": 128,
    "name": "ml.r5.4xlarge",
    "vcpuNum": 16
   },
   {
    "_defaultOrder": 43,
    "_isFastLaunch": false,
    "category": "Memory Optimized",
    "gpuNum": 0,
    "hideHardwareSpecs": false,
    "memoryGiB": 256,
    "name": "ml.r5.8xlarge",
    "vcpuNum": 32
   },
   {
    "_defaultOrder": 44,
    "_isFastLaunch": false,
    "category": "Memory Optimized",
    "gpuNum": 0,
    "hideHardwareSpecs": false,
    "memoryGiB": 384,
    "name": "ml.r5.12xlarge",
    "vcpuNum": 48
   },
   {
    "_defaultOrder": 45,
    "_isFastLaunch": false,
    "category": "Memory Optimized",
    "gpuNum": 0,
    "hideHardwareSpecs": false,
    "memoryGiB": 512,
    "name": "ml.r5.16xlarge",
    "vcpuNum": 64
   },
   {
    "_defaultOrder": 46,
    "_isFastLaunch": false,
    "category": "Memory Optimized",
    "gpuNum": 0,
    "hideHardwareSpecs": false,
    "memoryGiB": 768,
    "name": "ml.r5.24xlarge",
    "vcpuNum": 96
   },
   {
    "_defaultOrder": 47,
    "_isFastLaunch": false,
    "category": "Accelerated computing",
    "gpuNum": 1,
    "hideHardwareSpecs": false,
    "memoryGiB": 16,
    "name": "ml.g5.xlarge",
    "vcpuNum": 4
   },
   {
    "_defaultOrder": 48,
    "_isFastLaunch": false,
    "category": "Accelerated computing",
    "gpuNum": 1,
    "hideHardwareSpecs": false,
    "memoryGiB": 32,
    "name": "ml.g5.2xlarge",
    "vcpuNum": 8
   },
   {
    "_defaultOrder": 49,
    "_isFastLaunch": false,
    "category": "Accelerated computing",
    "gpuNum": 1,
    "hideHardwareSpecs": false,
    "memoryGiB": 64,
    "name": "ml.g5.4xlarge",
    "vcpuNum": 16
   },
   {
    "_defaultOrder": 50,
    "_isFastLaunch": false,
    "category": "Accelerated computing",
    "gpuNum": 1,
    "hideHardwareSpecs": false,
    "memoryGiB": 128,
    "name": "ml.g5.8xlarge",
    "vcpuNum": 32
   },
   {
    "_defaultOrder": 51,
    "_isFastLaunch": false,
    "category": "Accelerated computing",
    "gpuNum": 1,
    "hideHardwareSpecs": false,
    "memoryGiB": 256,
    "name": "ml.g5.16xlarge",
    "vcpuNum": 64
   },
   {
    "_defaultOrder": 52,
    "_isFastLaunch": false,
    "category": "Accelerated computing",
    "gpuNum": 4,
    "hideHardwareSpecs": false,
    "memoryGiB": 192,
    "name": "ml.g5.12xlarge",
    "vcpuNum": 48
   },
   {
    "_defaultOrder": 53,
    "_isFastLaunch": false,
    "category": "Accelerated computing",
    "gpuNum": 4,
    "hideHardwareSpecs": false,
    "memoryGiB": 384,
    "name": "ml.g5.24xlarge",
    "vcpuNum": 96
   },
   {
    "_defaultOrder": 54,
    "_isFastLaunch": false,
    "category": "Accelerated computing",
    "gpuNum": 8,
    "hideHardwareSpecs": false,
    "memoryGiB": 768,
    "name": "ml.g5.48xlarge",
    "vcpuNum": 192
   },
   {
    "_defaultOrder": 55,
    "_isFastLaunch": false,
    "category": "Accelerated computing",
    "gpuNum": 8,
    "hideHardwareSpecs": false,
    "memoryGiB": 1152,
    "name": "ml.p4d.24xlarge",
    "vcpuNum": 96
   },
   {
    "_defaultOrder": 56,
    "_isFastLaunch": false,
    "category": "Accelerated computing",
    "gpuNum": 8,
    "hideHardwareSpecs": false,
    "memoryGiB": 1152,
    "name": "ml.p4de.24xlarge",
    "vcpuNum": 96
   }
  ],
  "instance_type": "ml.t3.medium",
  "kernelspec": {
   "display_name": "Python 3 (Data Science)",
   "language": "python",
   "name": "python3__SAGEMAKER_INTERNAL__arn:aws:sagemaker:us-west-2:236514542706:image/datascience-1.0"
  },
  "language_info": {
   "codemirror_mode": {
    "name": "ipython",
    "version": 3
   },
   "file_extension": ".py",
   "mimetype": "text/x-python",
   "name": "python",
   "nbconvert_exporter": "python",
   "pygments_lexer": "ipython3",
   "version": "3.7.10"
  }
 },
 "nbformat": 4,
 "nbformat_minor": 5
}
